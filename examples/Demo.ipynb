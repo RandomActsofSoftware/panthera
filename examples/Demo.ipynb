{
 "cells": [
  {
   "cell_type": "code",
   "execution_count": 24,
   "metadata": {},
   "outputs": [
    {
     "data": {
      "text/plain": [
       ":ok"
      ]
     },
     "execution_count": 24,
     "metadata": {},
     "output_type": "execute_result"
    }
   ],
   "source": [
    "(require '[clojupyter.misc.helper :as helper])\n",
    "(helper/add-dependencies '[panthera \"0.1-alpha.12\"])\n",
    ":ok"
   ]
  },
  {
   "cell_type": "code",
   "execution_count": 25,
   "metadata": {},
   "outputs": [
    {
     "data": {
      "text/plain": [
       "nil"
      ]
     },
     "execution_count": 25,
     "metadata": {},
     "output_type": "execute_result"
    }
   ],
   "source": [
    "(require '[panthera.panthera :as pt])\n",
    "(require '[panthera.numpy :refer [npy]])"
   ]
  },
  {
   "cell_type": "code",
   "execution_count": 26,
   "metadata": {},
   "outputs": [
    {
     "data": {
      "text/plain": [
       "#'user/show"
      ]
     },
     "execution_count": 26,
     "metadata": {},
     "output_type": "execute_result"
    }
   ],
   "source": [
    "(require '[clojupyter.display :as display])\n",
    "(require '[libpython-clj.python :as py])\n",
    "\n",
    "(defn show\n",
    "  [obj]\n",
    "  (display/html\n",
    "    (py/call-attr obj \"to_html\")))"
   ]
  },
  {
   "cell_type": "code",
   "execution_count": 47,
   "metadata": {},
   "outputs": [
    {
     "data": {
      "text/html": [
       "<table border=\"1\" class=\"dataframe\">\n",
       "  <thead>\n",
       "    <tr style=\"text-align: right;\">\n",
       "      <th></th>\n",
       "      <th>#</th>\n",
       "      <th>Name</th>\n",
       "      <th>Type 1</th>\n",
       "      <th>Type 2</th>\n",
       "      <th>HP</th>\n",
       "      <th>Attack</th>\n",
       "      <th>Defense</th>\n",
       "      <th>Sp. Atk</th>\n",
       "      <th>Sp. Def</th>\n",
       "      <th>Speed</th>\n",
       "      <th>Generation</th>\n",
       "      <th>Legendary</th>\n",
       "    </tr>\n",
       "  </thead>\n",
       "  <tbody>\n",
       "    <tr>\n",
       "      <th>0</th>\n",
       "      <td>1</td>\n",
       "      <td>Bulbasaur</td>\n",
       "      <td>Grass</td>\n",
       "      <td>Poison</td>\n",
       "      <td>45</td>\n",
       "      <td>49</td>\n",
       "      <td>49</td>\n",
       "      <td>65</td>\n",
       "      <td>65</td>\n",
       "      <td>45</td>\n",
       "      <td>1</td>\n",
       "      <td>False</td>\n",
       "    </tr>\n",
       "    <tr>\n",
       "      <th>1</th>\n",
       "      <td>2</td>\n",
       "      <td>Ivysaur</td>\n",
       "      <td>Grass</td>\n",
       "      <td>Poison</td>\n",
       "      <td>60</td>\n",
       "      <td>62</td>\n",
       "      <td>63</td>\n",
       "      <td>80</td>\n",
       "      <td>80</td>\n",
       "      <td>60</td>\n",
       "      <td>1</td>\n",
       "      <td>False</td>\n",
       "    </tr>\n",
       "    <tr>\n",
       "      <th>2</th>\n",
       "      <td>3</td>\n",
       "      <td>Venusaur</td>\n",
       "      <td>Grass</td>\n",
       "      <td>Poison</td>\n",
       "      <td>80</td>\n",
       "      <td>82</td>\n",
       "      <td>83</td>\n",
       "      <td>100</td>\n",
       "      <td>100</td>\n",
       "      <td>80</td>\n",
       "      <td>1</td>\n",
       "      <td>False</td>\n",
       "    </tr>\n",
       "    <tr>\n",
       "      <th>3</th>\n",
       "      <td>4</td>\n",
       "      <td>Mega Venusaur</td>\n",
       "      <td>Grass</td>\n",
       "      <td>Poison</td>\n",
       "      <td>80</td>\n",
       "      <td>100</td>\n",
       "      <td>123</td>\n",
       "      <td>122</td>\n",
       "      <td>120</td>\n",
       "      <td>80</td>\n",
       "      <td>1</td>\n",
       "      <td>False</td>\n",
       "    </tr>\n",
       "    <tr>\n",
       "      <th>4</th>\n",
       "      <td>5</td>\n",
       "      <td>Charmander</td>\n",
       "      <td>Fire</td>\n",
       "      <td>NaN</td>\n",
       "      <td>39</td>\n",
       "      <td>52</td>\n",
       "      <td>43</td>\n",
       "      <td>60</td>\n",
       "      <td>50</td>\n",
       "      <td>65</td>\n",
       "      <td>1</td>\n",
       "      <td>False</td>\n",
       "    </tr>\n",
       "    <tr>\n",
       "      <th>5</th>\n",
       "      <td>6</td>\n",
       "      <td>Charmeleon</td>\n",
       "      <td>Fire</td>\n",
       "      <td>NaN</td>\n",
       "      <td>58</td>\n",
       "      <td>64</td>\n",
       "      <td>58</td>\n",
       "      <td>80</td>\n",
       "      <td>65</td>\n",
       "      <td>80</td>\n",
       "      <td>1</td>\n",
       "      <td>False</td>\n",
       "    </tr>\n",
       "    <tr>\n",
       "      <th>6</th>\n",
       "      <td>7</td>\n",
       "      <td>Charizard</td>\n",
       "      <td>Fire</td>\n",
       "      <td>Flying</td>\n",
       "      <td>78</td>\n",
       "      <td>84</td>\n",
       "      <td>78</td>\n",
       "      <td>109</td>\n",
       "      <td>85</td>\n",
       "      <td>100</td>\n",
       "      <td>1</td>\n",
       "      <td>False</td>\n",
       "    </tr>\n",
       "    <tr>\n",
       "      <th>7</th>\n",
       "      <td>8</td>\n",
       "      <td>Mega Charizard X</td>\n",
       "      <td>Fire</td>\n",
       "      <td>Dragon</td>\n",
       "      <td>78</td>\n",
       "      <td>130</td>\n",
       "      <td>111</td>\n",
       "      <td>130</td>\n",
       "      <td>85</td>\n",
       "      <td>100</td>\n",
       "      <td>1</td>\n",
       "      <td>False</td>\n",
       "    </tr>\n",
       "    <tr>\n",
       "      <th>8</th>\n",
       "      <td>9</td>\n",
       "      <td>Mega Charizard Y</td>\n",
       "      <td>Fire</td>\n",
       "      <td>Flying</td>\n",
       "      <td>78</td>\n",
       "      <td>104</td>\n",
       "      <td>78</td>\n",
       "      <td>159</td>\n",
       "      <td>115</td>\n",
       "      <td>100</td>\n",
       "      <td>1</td>\n",
       "      <td>False</td>\n",
       "    </tr>\n",
       "    <tr>\n",
       "      <th>9</th>\n",
       "      <td>10</td>\n",
       "      <td>Squirtle</td>\n",
       "      <td>Water</td>\n",
       "      <td>NaN</td>\n",
       "      <td>44</td>\n",
       "      <td>48</td>\n",
       "      <td>65</td>\n",
       "      <td>50</td>\n",
       "      <td>64</td>\n",
       "      <td>43</td>\n",
       "      <td>1</td>\n",
       "      <td>False</td>\n",
       "    </tr>\n",
       "  </tbody>\n",
       "</table>"
      ]
     },
     "execution_count": 47,
     "metadata": {},
     "output_type": "execute_result"
    }
   ],
   "source": [
    "(show (pt/read-csv \"../resources/pokemon.csv\" {:nrows 10}))"
   ]
  },
  {
   "cell_type": "code",
   "execution_count": 49,
   "metadata": {},
   "outputs": [
    {
     "data": {
      "text/html": [
       "<table border=\"1\" class=\"dataframe\">\n",
       "  <thead>\n",
       "    <tr style=\"text-align: right;\">\n",
       "      <th></th>\n",
       "      <th>#</th>\n",
       "      <th>Name</th>\n",
       "      <th>Type 1</th>\n",
       "      <th>Type 2</th>\n",
       "      <th>HP</th>\n",
       "      <th>Attack</th>\n",
       "      <th>Defense</th>\n",
       "      <th>Sp. Atk</th>\n",
       "      <th>Sp. Def</th>\n",
       "      <th>Speed</th>\n",
       "      <th>Generation</th>\n",
       "      <th>Legendary</th>\n",
       "    </tr>\n",
       "  </thead>\n",
       "  <tbody>\n",
       "    <tr>\n",
       "      <th>0</th>\n",
       "      <td>1</td>\n",
       "      <td>Bulbasaur</td>\n",
       "      <td>Grass</td>\n",
       "      <td>Poison</td>\n",
       "      <td>45</td>\n",
       "      <td>49</td>\n",
       "      <td>49</td>\n",
       "      <td>65</td>\n",
       "      <td>65</td>\n",
       "      <td>45</td>\n",
       "      <td>1</td>\n",
       "      <td>False</td>\n",
       "    </tr>\n",
       "    <tr>\n",
       "      <th>1</th>\n",
       "      <td>2</td>\n",
       "      <td>Ivysaur</td>\n",
       "      <td>Grass</td>\n",
       "      <td>Poison</td>\n",
       "      <td>60</td>\n",
       "      <td>62</td>\n",
       "      <td>63</td>\n",
       "      <td>80</td>\n",
       "      <td>80</td>\n",
       "      <td>60</td>\n",
       "      <td>1</td>\n",
       "      <td>False</td>\n",
       "    </tr>\n",
       "    <tr>\n",
       "      <th>2</th>\n",
       "      <td>3</td>\n",
       "      <td>Venusaur</td>\n",
       "      <td>Grass</td>\n",
       "      <td>Poison</td>\n",
       "      <td>80</td>\n",
       "      <td>82</td>\n",
       "      <td>83</td>\n",
       "      <td>100</td>\n",
       "      <td>100</td>\n",
       "      <td>80</td>\n",
       "      <td>1</td>\n",
       "      <td>False</td>\n",
       "    </tr>\n",
       "    <tr>\n",
       "      <th>3</th>\n",
       "      <td>4</td>\n",
       "      <td>Mega Venusaur</td>\n",
       "      <td>Grass</td>\n",
       "      <td>Poison</td>\n",
       "      <td>80</td>\n",
       "      <td>100</td>\n",
       "      <td>123</td>\n",
       "      <td>122</td>\n",
       "      <td>120</td>\n",
       "      <td>80</td>\n",
       "      <td>1</td>\n",
       "      <td>False</td>\n",
       "    </tr>\n",
       "    <tr>\n",
       "      <th>4</th>\n",
       "      <td>5</td>\n",
       "      <td>Charmander</td>\n",
       "      <td>Fire</td>\n",
       "      <td>NaN</td>\n",
       "      <td>39</td>\n",
       "      <td>52</td>\n",
       "      <td>43</td>\n",
       "      <td>60</td>\n",
       "      <td>50</td>\n",
       "      <td>65</td>\n",
       "      <td>1</td>\n",
       "      <td>False</td>\n",
       "    </tr>\n",
       "    <tr>\n",
       "      <th>5</th>\n",
       "      <td>6</td>\n",
       "      <td>Charmeleon</td>\n",
       "      <td>Fire</td>\n",
       "      <td>NaN</td>\n",
       "      <td>58</td>\n",
       "      <td>64</td>\n",
       "      <td>58</td>\n",
       "      <td>80</td>\n",
       "      <td>65</td>\n",
       "      <td>80</td>\n",
       "      <td>1</td>\n",
       "      <td>False</td>\n",
       "    </tr>\n",
       "    <tr>\n",
       "      <th>6</th>\n",
       "      <td>7</td>\n",
       "      <td>Charizard</td>\n",
       "      <td>Fire</td>\n",
       "      <td>Flying</td>\n",
       "      <td>78</td>\n",
       "      <td>84</td>\n",
       "      <td>78</td>\n",
       "      <td>109</td>\n",
       "      <td>85</td>\n",
       "      <td>100</td>\n",
       "      <td>1</td>\n",
       "      <td>False</td>\n",
       "    </tr>\n",
       "    <tr>\n",
       "      <th>7</th>\n",
       "      <td>8</td>\n",
       "      <td>Mega Charizard X</td>\n",
       "      <td>Fire</td>\n",
       "      <td>Dragon</td>\n",
       "      <td>78</td>\n",
       "      <td>130</td>\n",
       "      <td>111</td>\n",
       "      <td>130</td>\n",
       "      <td>85</td>\n",
       "      <td>100</td>\n",
       "      <td>1</td>\n",
       "      <td>False</td>\n",
       "    </tr>\n",
       "    <tr>\n",
       "      <th>8</th>\n",
       "      <td>9</td>\n",
       "      <td>Mega Charizard Y</td>\n",
       "      <td>Fire</td>\n",
       "      <td>Flying</td>\n",
       "      <td>78</td>\n",
       "      <td>104</td>\n",
       "      <td>78</td>\n",
       "      <td>159</td>\n",
       "      <td>115</td>\n",
       "      <td>100</td>\n",
       "      <td>1</td>\n",
       "      <td>False</td>\n",
       "    </tr>\n",
       "    <tr>\n",
       "      <th>9</th>\n",
       "      <td>10</td>\n",
       "      <td>Squirtle</td>\n",
       "      <td>Water</td>\n",
       "      <td>NaN</td>\n",
       "      <td>44</td>\n",
       "      <td>48</td>\n",
       "      <td>65</td>\n",
       "      <td>50</td>\n",
       "      <td>64</td>\n",
       "      <td>43</td>\n",
       "      <td>1</td>\n",
       "      <td>False</td>\n",
       "    </tr>\n",
       "  </tbody>\n",
       "</table>"
      ]
     },
     "execution_count": 49,
     "metadata": {},
     "output_type": "execute_result"
    }
   ],
   "source": [
    "(-> (pt/read-csv \"../resources/pokemon.csv\")\n",
    "    (pt/head 10)\n",
    "    show)"
   ]
  },
  {
   "cell_type": "code",
   "execution_count": 50,
   "metadata": {},
   "outputs": [
    {
     "data": {
      "text/plain": [
       "nil"
      ]
     },
     "execution_count": 50,
     "metadata": {},
     "output_type": "execute_result"
    }
   ],
   "source": [
    "(defonce pokemon (pt/read-csv \"../resources/pokemon.csv\"))"
   ]
  },
  {
   "cell_type": "code",
   "execution_count": 51,
   "metadata": {},
   "outputs": [
    {
     "data": {
      "text/plain": [
       "Index(['#', 'Name', 'Type 1', 'Type 2', 'HP', 'Attack', 'Defense', 'Sp. Atk',\n",
       "       'Sp. Def', 'Speed', 'Generation', 'Legendary'],\n",
       "      dtype='object')"
      ]
     },
     "execution_count": 51,
     "metadata": {},
     "output_type": "execute_result"
    }
   ],
   "source": [
    "(pt/names pokemon)"
   ]
  },
  {
   "cell_type": "code",
   "execution_count": 52,
   "metadata": {},
   "outputs": [
    {
     "data": {
      "text/plain": [
       "[\"#\" \"Name\" \"Type 1\" \"Type 2\" \"HP\" \"Attack\" \"Defense\" \"Sp. Atk\" \"Sp. Def\" \"Speed\" \"Generation\" \"Legendary\"]"
      ]
     },
     "execution_count": 52,
     "metadata": {},
     "output_type": "execute_result"
    }
   ],
   "source": [
    "(vec (pt/names pokemon))"
   ]
  },
  {
   "cell_type": "code",
   "execution_count": 55,
   "metadata": {},
   "outputs": [
    {
     "data": {
      "text/plain": [
       "(800, 12)"
      ]
     },
     "execution_count": 55,
     "metadata": {},
     "output_type": "execute_result"
    }
   ],
   "source": [
    "(pt/shape pokemon)"
   ]
  },
  {
   "cell_type": "code",
   "execution_count": 58,
   "metadata": {},
   "outputs": [
    {
     "data": {
      "text/plain": [
       "                       Name   HP  Speed  Defense\n",
       "0                 Bulbasaur   45     45       49\n",
       "1                   Ivysaur   60     60       63\n",
       "2                  Venusaur   80     80       83\n",
       "3             Mega Venusaur   80     80      123\n",
       "4                Charmander   39     65       43\n",
       "5                Charmeleon   58     80       58\n",
       "6                 Charizard   78    100       78\n",
       "7          Mega Charizard X   78    100      111\n",
       "8          Mega Charizard Y   78    100       78\n",
       "9                  Squirtle   44     43       65\n",
       "10                Wartortle   59     58       80\n",
       "11                Blastoise   79     78      100\n",
       "12           Mega Blastoise   79     78      120\n",
       "13                 Caterpie   45     45       35\n",
       "14                  Metapod   50     30       55\n",
       "15               Butterfree   60     70       50\n",
       "16                   Weedle   40     50       30\n",
       "17                   Kakuna   45     35       50\n",
       "18                 Beedrill   65     75       40\n",
       "19            Mega Beedrill   65    145       40\n",
       "20                   Pidgey   40     56       40\n",
       "21                Pidgeotto   63     71       55\n",
       "22                  Pidgeot   83    101       75\n",
       "23             Mega Pidgeot   83    121       80\n",
       "24                  Rattata   30     72       35\n",
       "25                 Raticate   55     97       60\n",
       "26                  Spearow   40     70       30\n",
       "27                   Fearow   65    100       65\n",
       "28                    Ekans   35     55       44\n",
       "29                    Arbok   60     80       69\n",
       "..                      ...  ...    ...      ...\n",
       "770                 Sylveon   95     60       65\n",
       "771                Hawlucha   78    118       75\n",
       "772                 Dedenne   67    101       57\n",
       "773                 Carbink   50     50      150\n",
       "774                   Goomy   45     40       35\n",
       "775                 Sliggoo   68     60       53\n",
       "776                  Goodra   90     80       70\n",
       "777                  Klefki   57     75       91\n",
       "778                Phantump   43     38       48\n",
       "779               Trevenant   85     56       76\n",
       "780  Pumpkaboo Average Size   49     51       70\n",
       "781    Pumpkaboo Small Size   44     56       70\n",
       "782    Pumpkaboo Large Size   54     46       70\n",
       "783    Pumpkaboo Super Size   59     41       70\n",
       "784  Gourgeist Average Size   65     84      122\n",
       "785    Gourgeist Small Size   55     99      122\n",
       "786    Gourgeist Large Size   75     69      122\n",
       "787    Gourgeist Super Size   85     54      122\n",
       "788                Bergmite   55     28       85\n",
       "789                 Avalugg   95     28      184\n",
       "790                  Noibat   40     55       35\n",
       "791                 Noivern   85    123       80\n",
       "792                 Xerneas  126     99       95\n",
       "793                 Yveltal  126     99       95\n",
       "794      Zygarde Half Forme  108     95      121\n",
       "795                 Diancie   50     50      150\n",
       "796            Mega Diancie   50    110      110\n",
       "797          Hoopa Confined   80     70       60\n",
       "798           Hoopa Unbound   80     80       60\n",
       "799               Volcanion   80     70      120\n",
       "\n",
       "[800 rows x 4 columns]"
      ]
     },
     "execution_count": 58,
     "metadata": {},
     "output_type": "execute_result"
    }
   ],
   "source": [
    "(pt/subset-cols pokemon :Name :HP :Speed \"Defense\")"
   ]
  },
  {
   "cell_type": "code",
   "execution_count": 59,
   "metadata": {},
   "outputs": [
    {
     "data": {
      "text/plain": [
       "0      3.806662\n",
       "1      4.094345\n",
       "2      4.382027\n",
       "3      4.382027\n",
       "4      4.174387\n",
       "5      4.382027\n",
       "6      4.605170\n",
       "7      4.605170\n",
       "8      4.605170\n",
       "9      3.761200\n",
       "10     4.060443\n",
       "11     4.356709\n",
       "12     4.356709\n",
       "13     3.806662\n",
       "14     3.401197\n",
       "15     4.248495\n",
       "16     3.912023\n",
       "17     3.555348\n",
       "18     4.317488\n",
       "19     4.976734\n",
       "20     4.025352\n",
       "21     4.262680\n",
       "22     4.615121\n",
       "23     4.795791\n",
       "24     4.276666\n",
       "25     4.574711\n",
       "26     4.248495\n",
       "27     4.605170\n",
       "28     4.007333\n",
       "29     4.382027\n",
       "         ...   \n",
       "770    4.094345\n",
       "771    4.770685\n",
       "772    4.615121\n",
       "773    3.912023\n",
       "774    3.688879\n",
       "775    4.094345\n",
       "776    4.382027\n",
       "777    4.317488\n",
       "778    3.637586\n",
       "779    4.025352\n",
       "780    3.931826\n",
       "781    4.025352\n",
       "782    3.828641\n",
       "783    3.713572\n",
       "784    4.430817\n",
       "785    4.595120\n",
       "786    4.234107\n",
       "787    3.988984\n",
       "788    3.332205\n",
       "789    3.332205\n",
       "790    4.007333\n",
       "791    4.812184\n",
       "792    4.595120\n",
       "793    4.595120\n",
       "794    4.553877\n",
       "795    3.912023\n",
       "796    4.700480\n",
       "797    4.248495\n",
       "798    4.382027\n",
       "799    4.248495\n",
       "Name: Speed, Length: 800, dtype: float64"
      ]
     },
     "execution_count": 59,
     "metadata": {},
     "output_type": "execute_result"
    }
   ],
   "source": [
    "(-> pokemon\n",
    "    (pt/subset-cols :Speed)\n",
    "    ((npy :log)))"
   ]
  },
  {
   "cell_type": "code",
   "execution_count": 67,
   "metadata": {},
   "outputs": [
    {
     "data": {
      "text/plain": [
       "[{:generation 1, :type-2 \"Poison\", :speed 45, :name \"Bulbasaur\", :type-1 \"Grass\", :defense 49, :# 1, :sp.-atk 65, :sp.-def 65, :legendary false, :hp 45, :attack 49} {:generation 1, :type-2 \"Poison\", :speed 60, :name \"Ivysaur\", :type-1 \"Grass\", :defense 63, :# 2, :sp.-atk 80, :sp.-def 80, :legendary false, :hp 60, :attack 62} {:generation 1, :type-2 \"Poison\", :speed 80, :name \"Venusaur\", :type-1 \"Grass\", :defense 83, :# 3, :sp.-atk 100, :sp.-def 100, :legendary false, :hp 80, :attack 82} {:generation 1, :type-2 \"Poison\", :speed 80, :name \"Mega Venusaur\", :type-1 \"Grass\", :defense 123, :# 4, :sp.-atk 122, :sp.-def 120, :legendary false, :hp 80, :attack 100} {:generation 1, :type-2 ##NaN, :speed 65, :name \"Charmander\", :type-1 \"Fire\", :defense 43, :# 5, :sp.-atk 60, :sp.-def 50, :legendary false, :hp 39, :attack 52}]"
      ]
     },
     "execution_count": 67,
     "metadata": {},
     "output_type": "execute_result"
    }
   ],
   "source": [
    "(-> pokemon pt/head pt/->clj)"
   ]
  },
  {
   "cell_type": "code",
   "execution_count": 69,
   "metadata": {},
   "outputs": [
    {
     "data": {
      "text/html": [
       "<table border=\"1\" class=\"dataframe\">\n",
       "  <thead>\n",
       "    <tr style=\"text-align: right;\">\n",
       "      <th></th>\n",
       "      <th>a</th>\n",
       "      <th>b</th>\n",
       "    </tr>\n",
       "  </thead>\n",
       "  <tbody>\n",
       "    <tr>\n",
       "      <th>0</th>\n",
       "      <td>1</td>\n",
       "      <td>2</td>\n",
       "    </tr>\n",
       "    <tr>\n",
       "      <th>1</th>\n",
       "      <td>3</td>\n",
       "      <td>4</td>\n",
       "    </tr>\n",
       "  </tbody>\n",
       "</table>"
      ]
     },
     "execution_count": 69,
     "metadata": {},
     "output_type": "execute_result"
    }
   ],
   "source": [
    "(show (pt/data-frame [{:a 1 :b 2} {:a 3 :b 4}]))"
   ]
  },
  {
   "cell_type": "code",
   "execution_count": 70,
   "metadata": {},
   "outputs": [
    {
     "data": {
      "text/html": [
       "<table border=\"1\" class=\"dataframe\">\n",
       "  <thead>\n",
       "    <tr style=\"text-align: right;\">\n",
       "      <th></th>\n",
       "      <th>#</th>\n",
       "      <th>Name</th>\n",
       "      <th>Type 1</th>\n",
       "      <th>Type 2</th>\n",
       "      <th>HP</th>\n",
       "      <th>Attack</th>\n",
       "      <th>Defense</th>\n",
       "      <th>Sp. Atk</th>\n",
       "      <th>Sp. Def</th>\n",
       "      <th>Speed</th>\n",
       "      <th>Generation</th>\n",
       "      <th>Legendary</th>\n",
       "    </tr>\n",
       "  </thead>\n",
       "  <tbody>\n",
       "    <tr>\n",
       "      <th>224</th>\n",
       "      <td>225</td>\n",
       "      <td>Mega Steelix</td>\n",
       "      <td>Steel</td>\n",
       "      <td>Ground</td>\n",
       "      <td>75</td>\n",
       "      <td>125</td>\n",
       "      <td>230</td>\n",
       "      <td>55</td>\n",
       "      <td>95</td>\n",
       "      <td>30</td>\n",
       "      <td>2</td>\n",
       "      <td>False</td>\n",
       "    </tr>\n",
       "    <tr>\n",
       "      <th>230</th>\n",
       "      <td>231</td>\n",
       "      <td>Shuckle</td>\n",
       "      <td>Bug</td>\n",
       "      <td>Rock</td>\n",
       "      <td>20</td>\n",
       "      <td>10</td>\n",
       "      <td>230</td>\n",
       "      <td>10</td>\n",
       "      <td>230</td>\n",
       "      <td>5</td>\n",
       "      <td>2</td>\n",
       "      <td>False</td>\n",
       "    </tr>\n",
       "    <tr>\n",
       "      <th>333</th>\n",
       "      <td>334</td>\n",
       "      <td>Mega Aggron</td>\n",
       "      <td>Steel</td>\n",
       "      <td>NaN</td>\n",
       "      <td>70</td>\n",
       "      <td>140</td>\n",
       "      <td>230</td>\n",
       "      <td>60</td>\n",
       "      <td>80</td>\n",
       "      <td>50</td>\n",
       "      <td>3</td>\n",
       "      <td>False</td>\n",
       "    </tr>\n",
       "  </tbody>\n",
       "</table>"
      ]
     },
     "execution_count": 70,
     "metadata": {},
     "output_type": "execute_result"
    }
   ],
   "source": [
    "(-> pokemon\n",
    "    (pt/filter-rows #(-> % (pt/subset-cols :Defense) (pt/gt 200)))\n",
    "    show)"
   ]
  },
  {
   "cell_type": "code",
   "execution_count": 71,
   "metadata": {},
   "outputs": [
    {
     "data": {
      "text/plain": [
       "0    False\n",
       "1     True\n",
       "2     True\n",
       "dtype: bool"
      ]
     },
     "execution_count": 71,
     "metadata": {},
     "output_type": "execute_result"
    }
   ],
   "source": [
    "(pt/gt (pt/series [1 2 3]) 1)"
   ]
  },
  {
   "cell_type": "code",
   "execution_count": 72,
   "metadata": {},
   "outputs": [
    {
     "data": {
      "text/plain": [
       "#'user/my-filter"
      ]
     },
     "execution_count": 72,
     "metadata": {},
     "output_type": "execute_result"
    }
   ],
   "source": [
    "(defn my-filter\n",
    "  [col1 col2]\n",
    "  (npy :logical-and\n",
    "       {:args [(-> pokemon\n",
    "                   (pt/subset-cols col1)\n",
    "                   (pt/gt 200))\n",
    "               (-> pokemon\n",
    "                   (pt/subset-cols col2)\n",
    "                   (pt/gt 100))]}))"
   ]
  },
  {
   "cell_type": "code",
   "execution_count": 73,
   "metadata": {},
   "outputs": [
    {
     "data": {
      "text/html": [
       "<table border=\"1\" class=\"dataframe\">\n",
       "  <thead>\n",
       "    <tr style=\"text-align: right;\">\n",
       "      <th></th>\n",
       "      <th>#</th>\n",
       "      <th>Name</th>\n",
       "      <th>Type 1</th>\n",
       "      <th>Type 2</th>\n",
       "      <th>HP</th>\n",
       "      <th>Attack</th>\n",
       "      <th>Defense</th>\n",
       "      <th>Sp. Atk</th>\n",
       "      <th>Sp. Def</th>\n",
       "      <th>Speed</th>\n",
       "      <th>Generation</th>\n",
       "      <th>Legendary</th>\n",
       "    </tr>\n",
       "  </thead>\n",
       "  <tbody>\n",
       "    <tr>\n",
       "      <th>224</th>\n",
       "      <td>225</td>\n",
       "      <td>Mega Steelix</td>\n",
       "      <td>Steel</td>\n",
       "      <td>Ground</td>\n",
       "      <td>75</td>\n",
       "      <td>125</td>\n",
       "      <td>230</td>\n",
       "      <td>55</td>\n",
       "      <td>95</td>\n",
       "      <td>30</td>\n",
       "      <td>2</td>\n",
       "      <td>False</td>\n",
       "    </tr>\n",
       "    <tr>\n",
       "      <th>333</th>\n",
       "      <td>334</td>\n",
       "      <td>Mega Aggron</td>\n",
       "      <td>Steel</td>\n",
       "      <td>NaN</td>\n",
       "      <td>70</td>\n",
       "      <td>140</td>\n",
       "      <td>230</td>\n",
       "      <td>60</td>\n",
       "      <td>80</td>\n",
       "      <td>50</td>\n",
       "      <td>3</td>\n",
       "      <td>False</td>\n",
       "    </tr>\n",
       "  </tbody>\n",
       "</table>"
      ]
     },
     "execution_count": 73,
     "metadata": {},
     "output_type": "execute_result"
    }
   ],
   "source": [
    "(-> pokemon\n",
    "    (pt/filter-rows (my-filter :Defense :Attack))\n",
    "    show)"
   ]
  },
  {
   "cell_type": "code",
   "execution_count": 75,
   "metadata": {},
   "outputs": [
    {
     "data": {
      "text/plain": [
       "#             400.50000\n",
       "HP             69.25875\n",
       "Attack         79.00125\n",
       "Defense        73.84250\n",
       "Sp. Atk        72.82000\n",
       "Sp. Def        71.90250\n",
       "Speed          68.27750\n",
       "Generation      3.32375\n",
       "Legendary       0.08125\n",
       "dtype: float64"
      ]
     },
     "execution_count": 75,
     "metadata": {},
     "output_type": "execute_result"
    }
   ],
   "source": [
    "(-> pokemon\n",
    "    pt/mean)"
   ]
  },
  {
   "cell_type": "markdown",
   "metadata": {},
   "source": [
    "[From Pandas docs](https://pandas.pydata.org/pandas-docs/stable/reference/api/pandas.DataFrame.mean.html)\n",
    "\n",
    "- axis : {index (0), columns (1)} Axis for the function to be applied on.\n",
    "\n",
    "- skipna : bool, default True Exclude NA/null values when computing the result.\n",
    "\n",
    "- level : int or level name, default None If the axis is a MultiIndex (hierarchical), count along a particular level, collapsing into a Series.\n",
    "\n",
    "- numeric_only : bool, default None Include only float, int, boolean columns. If None, will attempt to use everything, then use only numeric data. Not implemented for Series.\n",
    "\n",
    "- \\*\\*kwargs Additional keyword arguments to be passed to the function."
   ]
  },
  {
   "cell_type": "code",
   "execution_count": 76,
   "metadata": {},
   "outputs": [
    {
     "data": {
      "text/plain": [
       "##NaN"
      ]
     },
     "execution_count": 76,
     "metadata": {},
     "output_type": "execute_result"
    }
   ],
   "source": [
    "(-> (pt/series [1 2 nil 3])\n",
    "    (pt/mean {:skipna false}))"
   ]
  },
  {
   "cell_type": "code",
   "execution_count": 77,
   "metadata": {},
   "outputs": [
    {
     "data": {
      "text/plain": [
       "[69.25875 25.53466903233207 1 255]"
      ]
     },
     "execution_count": 77,
     "metadata": {},
     "output_type": "execute_result"
    }
   ],
   "source": [
    "(-> (pt/subset-cols pokemon :HP)\n",
    "    ((juxt pt/mean pt/std pt/minimum pt/maximum)))"
   ]
  },
  {
   "cell_type": "code",
   "execution_count": 78,
   "metadata": {},
   "outputs": [
    {
     "data": {
      "text/plain": [
       "#'user/col-mean"
      ]
     },
     "execution_count": 78,
     "metadata": {},
     "output_type": "execute_result"
    }
   ],
   "source": [
    "(defn where\n",
    "  [& args]\n",
    "  (npy :where {:args args}))\n",
    "\n",
    "(defn col-mean\n",
    "  [col]\n",
    "  (pt/mean (pt/subset-cols pokemon col)))"
   ]
  },
  {
   "cell_type": "code",
   "execution_count": 79,
   "metadata": {},
   "outputs": [
    {
     "data": {
      "text/plain": [
       "['low' 'low' 'high' 'high' 'low']"
      ]
     },
     "execution_count": 79,
     "metadata": {},
     "output_type": "execute_result"
    }
   ],
   "source": [
    "(-> pokemon\n",
    "    (pt/subset-cols :Speed)\n",
    "    pt/head\n",
    "    (pt/gt (col-mean :Speed))\n",
    "    (where \"high\" \"low\"))"
   ]
  },
  {
   "cell_type": "code",
   "execution_count": 81,
   "metadata": {},
   "outputs": [
    {
     "data": {
      "text/plain": [
       "68.2775"
      ]
     },
     "execution_count": 81,
     "metadata": {},
     "output_type": "execute_result"
    }
   ],
   "source": [
    "(col-mean :Speed)"
   ]
  },
  {
   "cell_type": "code",
   "execution_count": 80,
   "metadata": {},
   "outputs": [
    {
     "data": {
      "text/html": [
       "<table border=\"1\" class=\"dataframe\">\n",
       "  <thead>\n",
       "    <tr style=\"text-align: right;\">\n",
       "      <th></th>\n",
       "      <th>speed_level</th>\n",
       "      <th>Speed</th>\n",
       "    </tr>\n",
       "  </thead>\n",
       "  <tbody>\n",
       "    <tr>\n",
       "      <th>0</th>\n",
       "      <td>low</td>\n",
       "      <td>45</td>\n",
       "    </tr>\n",
       "    <tr>\n",
       "      <th>1</th>\n",
       "      <td>low</td>\n",
       "      <td>60</td>\n",
       "    </tr>\n",
       "    <tr>\n",
       "      <th>2</th>\n",
       "      <td>high</td>\n",
       "      <td>80</td>\n",
       "    </tr>\n",
       "    <tr>\n",
       "      <th>3</th>\n",
       "      <td>high</td>\n",
       "      <td>80</td>\n",
       "    </tr>\n",
       "    <tr>\n",
       "      <th>4</th>\n",
       "      <td>low</td>\n",
       "      <td>65</td>\n",
       "    </tr>\n",
       "    <tr>\n",
       "      <th>5</th>\n",
       "      <td>high</td>\n",
       "      <td>80</td>\n",
       "    </tr>\n",
       "    <tr>\n",
       "      <th>6</th>\n",
       "      <td>high</td>\n",
       "      <td>100</td>\n",
       "    </tr>\n",
       "    <tr>\n",
       "      <th>7</th>\n",
       "      <td>high</td>\n",
       "      <td>100</td>\n",
       "    </tr>\n",
       "    <tr>\n",
       "      <th>8</th>\n",
       "      <td>high</td>\n",
       "      <td>100</td>\n",
       "    </tr>\n",
       "    <tr>\n",
       "      <th>9</th>\n",
       "      <td>low</td>\n",
       "      <td>43</td>\n",
       "    </tr>\n",
       "  </tbody>\n",
       "</table>"
      ]
     },
     "execution_count": 80,
     "metadata": {},
     "output_type": "execute_result"
    }
   ],
   "source": [
    "(def speed-level\n",
    "  (-> pokemon\n",
    "      (pt/subset-cols :Speed)\n",
    "      (pt/gt (col-mean :Speed))\n",
    "      (where \"high\" \"low\")))\n",
    "\n",
    "(-> pokemon\n",
    "    (pt/assign {:speed-level speed-level})\n",
    "    (pt/subset-cols \"speed_level\" \"Speed\")\n",
    "    (pt/head 10)\n",
    "    show)"
   ]
  },
  {
   "cell_type": "code",
   "execution_count": 46,
   "metadata": {},
   "outputs": [
    {
     "data": {
      "text/plain": [
       "False    735\n",
       "True      65\n",
       "Name: Legendary, dtype: int64"
      ]
     },
     "execution_count": 46,
     "metadata": {},
     "output_type": "execute_result"
    }
   ],
   "source": [
    "(-> pokemon (pt/subset-cols :Legendary) pt/value-counts)"
   ]
  },
  {
   "cell_type": "code",
   "execution_count": null,
   "metadata": {},
   "outputs": [],
   "source": []
  }
 ],
 "metadata": {
  "kernelspec": {
   "display_name": "Clojure (clojupyter-v0.2.2)",
   "language": "clojure",
   "name": "clojupyter"
  },
  "language_info": {
   "file_extension": ".clj",
   "mimetype": "text/x-clojure",
   "name": "clojure",
   "version": "1.10.0"
  }
 },
 "nbformat": 4,
 "nbformat_minor": 4
}
